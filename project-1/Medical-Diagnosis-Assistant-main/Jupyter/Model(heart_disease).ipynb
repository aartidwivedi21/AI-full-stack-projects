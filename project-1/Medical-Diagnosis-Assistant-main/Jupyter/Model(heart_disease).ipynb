{
 "cells": [
  {
   "cell_type": "markdown",
   "id": "197bc1fc",
   "metadata": {},
   "source": [
    "Heart Disease prediction \n"
   ]
  },
  {
   "cell_type": "code",
   "execution_count": 1,
   "id": "79eaae56",
   "metadata": {},
   "outputs": [],
   "source": [
    "#loading dataset\n",
    "import pandas as pd\n",
    "import numpy as np\n",
    "#visualisation\n",
    "import matplotlib.pyplot as plt\n",
    "%matplotlib inline\n",
    "import seaborn as sns\n",
    "#EDA\n",
    "from collections import Counter\n",
    "# data preprocessing\n",
    "from sklearn.preprocessing import StandardScaler\n",
    "# data splitting\n",
    "from sklearn.model_selection import train_test_split\n",
    "# data modeling\n",
    "from sklearn.metrics import confusion_matrix,accuracy_score,roc_curve,classification_report\n",
    "from sklearn.linear_model import LogisticRegression\n",
    "from sklearn.naive_bayes import GaussianNB\n",
    "# from xgboost import XGBClassifier\n",
    "from sklearn.ensemble import RandomForestClassifier\n",
    "from sklearn.tree import DecisionTreeClassifier\n",
    "from sklearn.neighbors import KNeighborsClassifier\n",
    "from sklearn.naive_bayes import GaussianNB\n",
    "from sklearn.svm import SVC\n",
    "#ensembling\n",
    "# from mlxtend.classifier import StackingCVClassifier"
   ]
  },
  {
   "cell_type": "code",
   "execution_count": 2,
   "id": "7c20cbf2",
   "metadata": {},
   "outputs": [
    {
     "data": {
      "text/html": [
       "<div>\n",
       "<style scoped>\n",
       "    .dataframe tbody tr th:only-of-type {\n",
       "        vertical-align: middle;\n",
       "    }\n",
       "\n",
       "    .dataframe tbody tr th {\n",
       "        vertical-align: top;\n",
       "    }\n",
       "\n",
       "    .dataframe thead th {\n",
       "        text-align: right;\n",
       "    }\n",
       "</style>\n",
       "<table border=\"1\" class=\"dataframe\">\n",
       "  <thead>\n",
       "    <tr style=\"text-align: right;\">\n",
       "      <th></th>\n",
       "      <th>age</th>\n",
       "      <th>sex</th>\n",
       "      <th>cp</th>\n",
       "      <th>trestbps</th>\n",
       "      <th>chol</th>\n",
       "      <th>fbs</th>\n",
       "      <th>restecg</th>\n",
       "      <th>thalach</th>\n",
       "      <th>exang</th>\n",
       "      <th>oldpeak</th>\n",
       "      <th>slope</th>\n",
       "      <th>ca</th>\n",
       "      <th>thal</th>\n",
       "      <th>target</th>\n",
       "    </tr>\n",
       "  </thead>\n",
       "  <tbody>\n",
       "    <tr>\n",
       "      <th>0</th>\n",
       "      <td>52</td>\n",
       "      <td>1</td>\n",
       "      <td>0</td>\n",
       "      <td>125</td>\n",
       "      <td>212</td>\n",
       "      <td>0</td>\n",
       "      <td>1</td>\n",
       "      <td>168</td>\n",
       "      <td>0</td>\n",
       "      <td>1.0</td>\n",
       "      <td>2</td>\n",
       "      <td>2</td>\n",
       "      <td>3</td>\n",
       "      <td>0</td>\n",
       "    </tr>\n",
       "    <tr>\n",
       "      <th>1</th>\n",
       "      <td>53</td>\n",
       "      <td>1</td>\n",
       "      <td>0</td>\n",
       "      <td>140</td>\n",
       "      <td>203</td>\n",
       "      <td>1</td>\n",
       "      <td>0</td>\n",
       "      <td>155</td>\n",
       "      <td>1</td>\n",
       "      <td>3.1</td>\n",
       "      <td>0</td>\n",
       "      <td>0</td>\n",
       "      <td>3</td>\n",
       "      <td>0</td>\n",
       "    </tr>\n",
       "    <tr>\n",
       "      <th>2</th>\n",
       "      <td>70</td>\n",
       "      <td>1</td>\n",
       "      <td>0</td>\n",
       "      <td>145</td>\n",
       "      <td>174</td>\n",
       "      <td>0</td>\n",
       "      <td>1</td>\n",
       "      <td>125</td>\n",
       "      <td>1</td>\n",
       "      <td>2.6</td>\n",
       "      <td>0</td>\n",
       "      <td>0</td>\n",
       "      <td>3</td>\n",
       "      <td>0</td>\n",
       "    </tr>\n",
       "    <tr>\n",
       "      <th>3</th>\n",
       "      <td>61</td>\n",
       "      <td>1</td>\n",
       "      <td>0</td>\n",
       "      <td>148</td>\n",
       "      <td>203</td>\n",
       "      <td>0</td>\n",
       "      <td>1</td>\n",
       "      <td>161</td>\n",
       "      <td>0</td>\n",
       "      <td>0.0</td>\n",
       "      <td>2</td>\n",
       "      <td>1</td>\n",
       "      <td>3</td>\n",
       "      <td>0</td>\n",
       "    </tr>\n",
       "    <tr>\n",
       "      <th>4</th>\n",
       "      <td>62</td>\n",
       "      <td>0</td>\n",
       "      <td>0</td>\n",
       "      <td>138</td>\n",
       "      <td>294</td>\n",
       "      <td>1</td>\n",
       "      <td>1</td>\n",
       "      <td>106</td>\n",
       "      <td>0</td>\n",
       "      <td>1.9</td>\n",
       "      <td>1</td>\n",
       "      <td>3</td>\n",
       "      <td>2</td>\n",
       "      <td>0</td>\n",
       "    </tr>\n",
       "  </tbody>\n",
       "</table>\n",
       "</div>"
      ],
      "text/plain": [
       "   age  sex  cp  trestbps  chol  fbs  restecg  thalach  exang  oldpeak  slope  \\\n",
       "0   52    1   0       125   212    0        1      168      0      1.0      2   \n",
       "1   53    1   0       140   203    1        0      155      1      3.1      0   \n",
       "2   70    1   0       145   174    0        1      125      1      2.6      0   \n",
       "3   61    1   0       148   203    0        1      161      0      0.0      2   \n",
       "4   62    0   0       138   294    1        1      106      0      1.9      1   \n",
       "\n",
       "   ca  thal  target  \n",
       "0   2     3       0  \n",
       "1   0     3       0  \n",
       "2   0     3       0  \n",
       "3   1     3       0  \n",
       "4   3     2       0  "
      ]
     },
     "execution_count": 2,
     "metadata": {},
     "output_type": "execute_result"
    }
   ],
   "source": [
    "df = pd.read_csv('heart.csv')\n",
    "df.head()"
   ]
  },
  {
   "cell_type": "code",
   "execution_count": 3,
   "id": "a6fc2769",
   "metadata": {},
   "outputs": [
    {
     "data": {
      "text/plain": [
       "(1025, 14)"
      ]
     },
     "execution_count": 3,
     "metadata": {},
     "output_type": "execute_result"
    }
   ],
   "source": [
    "df.shape"
   ]
  },
  {
   "cell_type": "code",
   "execution_count": 4,
   "id": "ca3e0bf0",
   "metadata": {},
   "outputs": [
    {
     "data": {
      "text/plain": [
       "age         0\n",
       "sex         0\n",
       "cp          0\n",
       "trestbps    0\n",
       "chol        0\n",
       "fbs         0\n",
       "restecg     0\n",
       "thalach     0\n",
       "exang       0\n",
       "oldpeak     0\n",
       "slope       0\n",
       "ca          0\n",
       "thal        0\n",
       "target      0\n",
       "dtype: int64"
      ]
     },
     "execution_count": 4,
     "metadata": {},
     "output_type": "execute_result"
    }
   ],
   "source": [
    "df.dtypes\n",
    "df.isnull().sum()"
   ]
  },
  {
   "cell_type": "code",
   "execution_count": 5,
   "id": "16a177e8",
   "metadata": {},
   "outputs": [
    {
     "name": "stdout",
     "output_type": "stream",
     "text": [
      "<class 'pandas.core.frame.DataFrame'>\n",
      "RangeIndex: 1025 entries, 0 to 1024\n",
      "Data columns (total 14 columns):\n",
      " #   Column    Non-Null Count  Dtype  \n",
      "---  ------    --------------  -----  \n",
      " 0   age       1025 non-null   int64  \n",
      " 1   sex       1025 non-null   int64  \n",
      " 2   cp        1025 non-null   int64  \n",
      " 3   trestbps  1025 non-null   int64  \n",
      " 4   chol      1025 non-null   int64  \n",
      " 5   fbs       1025 non-null   int64  \n",
      " 6   restecg   1025 non-null   int64  \n",
      " 7   thalach   1025 non-null   int64  \n",
      " 8   exang     1025 non-null   int64  \n",
      " 9   oldpeak   1025 non-null   float64\n",
      " 10  slope     1025 non-null   int64  \n",
      " 11  ca        1025 non-null   int64  \n",
      " 12  thal      1025 non-null   int64  \n",
      " 13  target    1025 non-null   int64  \n",
      "dtypes: float64(1), int64(13)\n",
      "memory usage: 112.2 KB\n"
     ]
    }
   ],
   "source": [
    "df.info()"
   ]
  },
  {
   "cell_type": "code",
   "execution_count": 6,
   "id": "992befcd",
   "metadata": {},
   "outputs": [
    {
     "data": {
      "text/plain": [
       "target\n",
       "1    526\n",
       "0    499\n",
       "Name: count, dtype: int64"
      ]
     },
     "execution_count": 6,
     "metadata": {},
     "output_type": "execute_result"
    }
   ],
   "source": [
    "df['target'].value_counts()"
   ]
  },
  {
   "cell_type": "code",
   "execution_count": 7,
   "id": "e332de4b",
   "metadata": {},
   "outputs": [],
   "source": [
    "scaler = StandardScaler()\n",
    "#scaling the data\n",
    "df[['age','trestbps','chol','thalach','oldpeak']] = scaler.fit_transform(df[['age','trestbps','chol','thalach','oldpeak']])"
   ]
  },
  {
   "cell_type": "code",
   "execution_count": 8,
   "id": "8cbeab53",
   "metadata": {},
   "outputs": [],
   "source": [
    "#data splitting\n",
    "X = df.drop('target',axis=1)\n",
    "y = df['target']\n",
    "X_train, X_test, y_train, y_test = train_test_split(X,y,test_size=0.2,random_state=42)"
   ]
  },
  {
   "cell_type": "code",
   "execution_count": 9,
   "id": "2c16184a",
   "metadata": {},
   "outputs": [
    {
     "name": "stdout",
     "output_type": "stream",
     "text": [
      "              precision    recall  f1-score   support\n",
      "\n",
      "           0       0.85      0.72      0.78       102\n",
      "           1       0.76      0.87      0.81       103\n",
      "\n",
      "    accuracy                           0.80       205\n",
      "   macro avg       0.80      0.79      0.79       205\n",
      "weighted avg       0.80      0.80      0.79       205\n",
      "\n",
      "0.7951219512195122\n"
     ]
    }
   ],
   "source": [
    "# Logistic Regression\n",
    "logreg = LogisticRegression()\n",
    "logreg.fit(X_train,y_train)\n",
    "y_pred = logreg.predict(X_test)\n",
    "print(classification_report(y_test,y_pred))\n",
    "print(accuracy_score(y_test,y_pred))\n"
   ]
  },
  {
   "cell_type": "markdown",
   "id": "d6c8a167",
   "metadata": {},
   "source": [
    "Making model"
   ]
  },
  {
   "cell_type": "code",
   "execution_count": 10,
   "id": "54b03840",
   "metadata": {},
   "outputs": [],
   "source": [
    "import pandas as pd\n",
    "from sklearn.model_selection import train_test_split\n",
    "from sklearn.linear_model import LogisticRegression\n",
    "from sklearn.preprocessing import StandardScaler\n",
    "from sklearn.metrics import accuracy_score\n",
    "\n",
    "# Load the dataset\n",
    "df = pd.read_csv('heart.csv')  # Replace with your dataset path\n"
   ]
  },
  {
   "cell_type": "code",
   "execution_count": 11,
   "id": "eb027b77",
   "metadata": {},
   "outputs": [],
   "source": [
    "# Define features and target variable\n",
    "features = ['age', 'sex', 'cp', 'trestbps', 'chol', 'fbs',\n",
    "            'restecg', 'thalach', 'exang', 'oldpeak', 'slope',\n",
    "            'ca', 'thal']\n",
    "X = df[features]\n",
    "y = df['target']  # 1 indicates presence of heart disease\n"
   ]
  },
  {
   "cell_type": "code",
   "execution_count": 12,
   "id": "76f2b48c",
   "metadata": {},
   "outputs": [],
   "source": [
    "# Split the data\n",
    "X_train, X_test, y_train, y_test = train_test_split(X, y, test_size=0.2, random_state=42)\n",
    "\n",
    "# Feature scaling\n",
    "scaler = StandardScaler()\n",
    "X_train_scaled = scaler.fit_transform(X_train)\n",
    "X_test_scaled = scaler.transform(X_test)\n"
   ]
  },
  {
   "cell_type": "code",
   "execution_count": 13,
   "id": "ef0d4843",
   "metadata": {},
   "outputs": [
    {
     "name": "stdout",
     "output_type": "stream",
     "text": [
      "Model Accuracy: 0.80\n"
     ]
    }
   ],
   "source": [
    "# Initialize and train the model\n",
    "model = LogisticRegression(max_iter=1000)\n",
    "model.fit(X_train_scaled, y_train)\n",
    "\n",
    "# Evaluate the model\n",
    "y_pred = model.predict(X_test_scaled)\n",
    "accuracy = accuracy_score(y_test, y_pred)\n",
    "print(f\"Model Accuracy: {accuracy:.2f}\")\n"
   ]
  },
  {
   "cell_type": "code",
   "execution_count": 14,
   "id": "abc5b6be",
   "metadata": {},
   "outputs": [],
   "source": [
    "def predict_heart_disease(user_input):\n",
    "    \"\"\"\n",
    "    Predicts heart disease and generates a PDF report.\n",
    "    \"\"\"\n",
    "    input_df = pd.DataFrame([user_input])\n",
    "    input_scaled = scaler.transform(input_df)\n",
    "    prediction = model.predict(input_scaled)\n",
    "    result = \"Heart Disease Detected\" if prediction[0] == 1 else \"No Heart Disease Detected\"\n",
    "    generate_pdf_report(user_input, result)\n",
    "    return result\n",
    "\n"
   ]
  },
  {
   "cell_type": "code",
   "execution_count": 15,
   "id": "5df61d07",
   "metadata": {},
   "outputs": [],
   "source": [
    "from reportlab.lib.pagesizes import A4\n",
    "from reportlab.pdfgen import canvas\n",
    "import os\n",
    "\n",
    "def generate_pdf_report(user_input, prediction_result):\n",
    "    \"\"\"Generates a PDF report for the user with a random user ID.\"\"\"\n",
    "    user_id = generate_user_id()\n",
    "    timestamp = datetime.now().strftime('%Y-%m-%d %H:%M:%S')\n",
    "    filename = f\"report_{user_id}.pdf\"\n",
    "\n",
    "    # Create a PDF canvas\n",
    "    c = canvas.Canvas(filename, pagesize=A4)\n",
    "    width, height = A4\n",
    "    y_position = height - 50\n",
    "\n",
    "    # Title\n",
    "    c.setFont(\"Helvetica-Bold\", 16)\n",
    "    c.drawString(50, y_position, \"Heart Disease Prediction Report\")\n",
    "\n",
    "    # User Info\n",
    "    c.setFont(\"Helvetica\", 12)\n",
    "    y_position -= 30\n",
    "    c.drawString(50, y_position, f\"User ID: {user_id}\")\n",
    "    y_position -= 20\n",
    "    c.drawString(50, y_position, f\"Timestamp: {timestamp}\")\n",
    "\n",
    "    # Input Data\n",
    "    y_position -= 40\n",
    "    c.setFont(\"Helvetica-Bold\", 12)\n",
    "    c.drawString(50, y_position, \"User Input:\")\n",
    "    y_position -= 20\n",
    "    c.setFont(\"Helvetica\", 12)\n",
    "    for key, value in user_input.items():\n",
    "        c.drawString(60, y_position, f\"{key}: {value}\")\n",
    "        y_position -= 20\n",
    "        if y_position < 80:\n",
    "            c.showPage()\n",
    "            y_position = height - 50\n",
    "\n",
    "    # Prediction Result\n",
    "    y_position -= 20\n",
    "    c.setFont(\"Helvetica-Bold\", 12)\n",
    "    c.drawString(50, y_position, f\"\\nPrediction Result: {prediction_result}\")\n",
    "\n",
    "    # Footer\n",
    "    y_position -= 30\n",
    "    c.setFont(\"Helvetica\", 10)\n",
    "    c.drawString(50, y_position, \"Generated using Python and ReportLab\")\n",
    "\n",
    "    # Save the PDF\n",
    "    c.save()\n",
    "    print(f\"\\nPDF Report saved as '{filename}'\")\n"
   ]
  },
  {
   "cell_type": "code",
   "execution_count": 16,
   "id": "a9b7cc33",
   "metadata": {},
   "outputs": [],
   "source": [
    "import random\n",
    "import string\n",
    "from datetime import datetime\n"
   ]
  },
  {
   "cell_type": "code",
   "execution_count": 17,
   "id": "2aca465f",
   "metadata": {},
   "outputs": [],
   "source": [
    "def generate_user_id(length=8):\n",
    "    \"\"\"Generates a random alphanumeric user ID.\"\"\"\n",
    "    return ''.join(random.choices(string.ascii_uppercase + string.digits, k=length))\n"
   ]
  },
  {
   "cell_type": "code",
   "execution_count": 18,
   "id": "a9a1489e",
   "metadata": {},
   "outputs": [],
   "source": [
    "def generate_report(user_input, prediction_result):\n",
    "    \"\"\"Generates a report for the user including a random user ID and saves it to a text file.\"\"\"\n",
    "    user_id = generate_user_id()\n",
    "    timestamp = datetime.now().strftime('%Y-%m-%d %H:%M:%S')\n",
    "\n",
    "    report_lines = [\n",
    "        f\"===== Heart Disease Prediction Report =====\",\n",
    "        f\"User ID: {user_id}\",\n",
    "        f\"Timestamp: {timestamp}\\n\",\n",
    "        \"User Input:\",\n",
    "    ]\n",
    "\n",
    "    for key, value in user_input.items():\n",
    "        report_lines.append(f\"{key}: {value}\")\n",
    "\n",
    "    report_lines.append(f\"\\nPrediction Result: {prediction_result}\")\n",
    "    report_lines.append(\"==========================================\")\n",
    "\n",
    "    # Save the report to a file\n",
    "    filename = f\"report_{user_id}.txt\"\n",
    "    with open(filename, 'w') as file:\n",
    "        file.write('\\n'.join(report_lines))\n",
    "\n",
    "    print(f\"\\nReport saved as '{filename}'\")\n"
   ]
  },
  {
   "cell_type": "code",
   "execution_count": 19,
   "id": "711f17e8",
   "metadata": {},
   "outputs": [
    {
     "name": "stdout",
     "output_type": "stream",
     "text": [
      "\n",
      "PDF Report saved as 'report_WDY2EE75.pdf'\n",
      "Prediction: Heart Disease Detected\n"
     ]
    }
   ],
   "source": [
    "user_input = {\n",
    "    'age': 54,\n",
    "    'sex': 1,\n",
    "    'cp': 0,\n",
    "    'trestbps': 130,\n",
    "    'chol': 250,\n",
    "    'fbs': 0,\n",
    "    'restecg': 1,\n",
    "    'thalach': 150,\n",
    "    'exang': 0,\n",
    "    'oldpeak': 1.0,\n",
    "    'slope': 2,\n",
    "    'ca': 0,\n",
    "    'thal': 2\n",
    "}\n",
    "\n",
    "result = predict_heart_disease(user_input)\n",
    "print(\"Prediction:\", result)\n"
   ]
  },
  {
   "cell_type": "code",
   "execution_count": 20,
   "id": "1d99a5bf",
   "metadata": {},
   "outputs": [],
   "source": [
    "from reportlab.lib.pagesizes import A4\n",
    "from reportlab.pdfgen import canvas\n",
    "from datetime import datetime\n",
    "import os\n",
    "import random\n",
    "import string\n",
    "\n",
    "def generate_user_id(length=6):\n",
    "    \"\"\"Generate a random alphanumeric user ID.\"\"\"\n",
    "    return ''.join(random.choices(string.ascii_uppercase + string.digits, k=length))\n",
    "\n",
    "def generate_pdf_report(user_input, prediction_result):\n",
    "    \"\"\"Generates a PDF report in the 'report' folder with a random user ID.\"\"\"\n",
    "    \n",
    "    # Ensure the report directory exists\n",
    "    report_dir = \"report\"\n",
    "    os.makedirs(report_dir, exist_ok=True)\n",
    "\n",
    "    user_id = generate_user_id()\n",
    "    timestamp = datetime.now().strftime('%Y-%m-%d %H:%M:%S')\n",
    "    filename = f\"report_{user_id}.pdf\"\n",
    "    filepath = os.path.join(report_dir, filename)\n",
    "\n",
    "    # Create PDF\n",
    "    c = canvas.Canvas(filepath, pagesize=A4)\n",
    "    width, height = A4\n",
    "    y = height - 50\n",
    "\n",
    "    # Title\n",
    "    c.setFont(\"Helvetica-Bold\", 16)\n",
    "    c.drawString(50, y, \"Heart Disease Prediction Report\")\n",
    "\n",
    "    # User Info\n",
    "    y -= 30\n",
    "    c.setFont(\"Helvetica\", 12)\n",
    "    c.drawString(50, y, f\"User ID: {user_id}\")\n",
    "    y -= 20\n",
    "    c.drawString(50, y, f\"Timestamp: {timestamp}\")\n",
    "\n",
    "    # Inputs\n",
    "    y -= 40\n",
    "    c.setFont(\"Helvetica-Bold\", 12)\n",
    "    c.drawString(50, y, \"User Inputs:\")\n",
    "    y -= 20\n",
    "    c.setFont(\"Helvetica\", 12)\n",
    "    for key, value in user_input.items():\n",
    "        c.drawString(60, y, f\"{key}: {value}\")\n",
    "        y -= 20\n",
    "        if y < 80:\n",
    "            c.showPage()\n",
    "            y = height - 50\n",
    "\n",
    "    # Prediction Result\n",
    "    y -= 20\n",
    "    c.setFont(\"Helvetica-Bold\", 12)\n",
    "    c.drawString(50, y, f\"Prediction Result: {prediction_result}\")\n",
    "\n",
    "    # Footer\n",
    "    y -= 30\n",
    "    c.setFont(\"Helvetica\", 10)\n",
    "    c.drawString(50, y, \"Generated using Python and ReportLab\")\n",
    "\n",
    "    # Save PDF\n",
    "    c.save()\n",
    "    print(f\"\\nPDF Report saved as: {filepath}\")\n"
   ]
  },
  {
   "cell_type": "code",
   "execution_count": 21,
   "id": "7875728b",
   "metadata": {},
   "outputs": [],
   "source": [
    "def generate_report(user_input, prediction_result):\n",
    "    \"\"\"Generates a report for the user including a random user ID and saves it to a text file.\"\"\"\n",
    "    user_id = generate_user_id()\n",
    "    timestamp = datetime.now().strftime('%Y-%m-%d %H:%M:%S')\n",
    "\n",
    "    report_lines = [\n",
    "        f\"===== Heart Disease Prediction Report =====\",\n",
    "        f\"User ID: {user_id}\",\n",
    "        f\"Timestamp: {timestamp}\\n\",\n",
    "        \"User Input:\",\n",
    "    ]\n",
    "\n",
    "    for key, value in user_input.items():\n",
    "        report_lines.append(f\"{key}: {value}\")\n",
    "\n",
    "    report_lines.append(f\"\\nPrediction Result: {prediction_result}\")\n",
    "    report_lines.append(\"==========================================\")\n",
    "\n",
    "    # Save the report to a file\n",
    "    filename = f\"report_{user_id}.txt\"\n",
    "    with open(filename, 'w') as file:\n",
    "        file.write('\\n'.join(report_lines))\n",
    "\n",
    "    print(f\"\\nReport saved as '{filename}'\")"
   ]
  },
  {
   "cell_type": "code",
   "execution_count": 22,
   "id": "d1fd4e40",
   "metadata": {},
   "outputs": [
    {
     "name": "stdout",
     "output_type": "stream",
     "text": [
      "\n",
      "PDF Report saved as: report\\report_YUBRLF.pdf\n",
      "Prediction: Heart Disease Detected\n"
     ]
    }
   ],
   "source": [
    "user_input = {\n",
    "    'age': 54,\n",
    "    'sex': 1,\n",
    "    'cp': 0,\n",
    "    'trestbps': 130,\n",
    "    'chol': 250,\n",
    "    'fbs': 0,\n",
    "    'restecg': 1,\n",
    "    'thalach': 150,\n",
    "    'exang': 0,\n",
    "    'oldpeak': 1.0,\n",
    "    'slope': 2,\n",
    "    'ca': 0,\n",
    "    'thal': 2\n",
    "}\n",
    "\n",
    "result = predict_heart_disease(user_input)\n",
    "print(\"Prediction:\", result)"
   ]
  }
 ],
 "metadata": {
  "kernelspec": {
   "display_name": "Virtual_Environment",
   "language": "python",
   "name": "python3"
  },
  "language_info": {
   "codemirror_mode": {
    "name": "ipython",
    "version": 3
   },
   "file_extension": ".py",
   "mimetype": "text/x-python",
   "name": "python",
   "nbconvert_exporter": "python",
   "pygments_lexer": "ipython3",
   "version": "3.10.9"
  }
 },
 "nbformat": 4,
 "nbformat_minor": 5
}
